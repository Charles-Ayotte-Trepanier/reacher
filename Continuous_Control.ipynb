{
 "cells": [
  {
   "cell_type": "markdown",
   "metadata": {},
   "source": [
    "# Continuous Control\n",
    "\n",
    "---\n",
    "\n",
    "You are welcome to use this coding environment to train your agent for the project.  Follow the instructions below to get started!\n",
    "\n",
    "### 1. Start the Environment\n",
    "\n",
    "Run the next code cell to install a few packages.  This line will take a few minutes to run!"
   ]
  },
  {
   "cell_type": "code",
   "execution_count": 1,
   "metadata": {},
   "outputs": [],
   "source": [
    "# !pip -q install ./python"
   ]
  },
  {
   "cell_type": "markdown",
   "metadata": {},
   "source": [
    "The environments corresponding to both versions of the environment are already saved in the Workspace and can be accessed at the file paths provided below.  \n",
    "\n",
    "Please select one of the two options below for loading the environment."
   ]
  },
  {
   "cell_type": "code",
   "execution_count": 2,
   "metadata": {},
   "outputs": [
    {
     "name": "stderr",
     "output_type": "stream",
     "text": [
      "INFO:unityagents:\n",
      "'Academy' started successfully!\n",
      "Unity Academy name: Academy\n",
      "        Number of Brains: 1\n",
      "        Number of External Brains : 1\n",
      "        Lesson number : 0\n",
      "        Reset Parameters :\n",
      "\t\tgoal_size -> 5.0\n",
      "\t\tgoal_speed -> 1.0\n",
      "Unity brain name: ReacherBrain\n",
      "        Number of Visual Observations (per agent): 0\n",
      "        Vector Observation space type: continuous\n",
      "        Vector Observation space size (per agent): 33\n",
      "        Number of stacked Vector Observation: 1\n",
      "        Vector Action space type: continuous\n",
      "        Vector Action space size (per agent): 4\n",
      "        Vector Action descriptions: , , , \n"
     ]
    }
   ],
   "source": [
    "from unityagents import UnityEnvironment\n",
    "import numpy as np\n",
    "\n",
    "# select this option to load version 1 (with a single agent) of the environment\n",
    "env = UnityEnvironment(file_name='./Reacher_Linux_one_agent_NoVis/Reacher.x86_64')\n",
    "\n",
    "# select this option to load version 2 (with 20 agents) of the environment\n",
    "# env = UnityEnvironment(file_name='./Reacher_Linux_twenty_agents_NoVis/Reacher.x86_64')"
   ]
  },
  {
   "cell_type": "markdown",
   "metadata": {},
   "source": [
    "Environments contain **_brains_** which are responsible for deciding the actions of their associated agents. Here we check for the first brain available, and set it as the default brain we will be controlling from Python."
   ]
  },
  {
   "cell_type": "code",
   "execution_count": 3,
   "metadata": {},
   "outputs": [],
   "source": [
    "# get the default brain\n",
    "brain_name = env.brain_names[0]\n",
    "brain = env.brains[brain_name]"
   ]
  },
  {
   "cell_type": "code",
   "execution_count": 4,
   "metadata": {},
   "outputs": [
    {
     "data": {
      "text/plain": [
       "<unityagents.brain.BrainInfo at 0x7f5af0053358>"
      ]
     },
     "execution_count": 4,
     "metadata": {},
     "output_type": "execute_result"
    }
   ],
   "source": [
    "env.reset(train_mode=True)[brain_name]"
   ]
  },
  {
   "cell_type": "markdown",
   "metadata": {},
   "source": [
    "### 2. Examine the State and Action Spaces\n",
    "\n",
    "Run the code cell below to print some information about the environment."
   ]
  },
  {
   "cell_type": "code",
   "execution_count": 5,
   "metadata": {},
   "outputs": [
    {
     "name": "stdout",
     "output_type": "stream",
     "text": [
      "Number of agents: 1\n",
      "Size of each action: 4\n",
      "There are 1 agents. Each observes a state with length: 33\n",
      "The state for the first agent looks like: [ 0.00000000e+00 -4.00000000e+00  0.00000000e+00  1.00000000e+00\n",
      " -0.00000000e+00 -0.00000000e+00 -4.37113883e-08  0.00000000e+00\n",
      "  0.00000000e+00  0.00000000e+00  0.00000000e+00  0.00000000e+00\n",
      "  0.00000000e+00  0.00000000e+00 -1.00000000e+01  0.00000000e+00\n",
      "  1.00000000e+00 -0.00000000e+00 -0.00000000e+00 -4.37113883e-08\n",
      "  0.00000000e+00  0.00000000e+00  0.00000000e+00  0.00000000e+00\n",
      "  0.00000000e+00  0.00000000e+00 -6.30408478e+00 -1.00000000e+00\n",
      " -4.92529202e+00  0.00000000e+00  1.00000000e+00  0.00000000e+00\n",
      " -5.33014059e-01]\n"
     ]
    }
   ],
   "source": [
    "# reset the environment\n",
    "env_info = env.reset(train_mode=True)[brain_name]\n",
    "\n",
    "# number of agents\n",
    "num_agents = len(env_info.agents)\n",
    "print('Number of agents:', num_agents)\n",
    "\n",
    "# size of each action\n",
    "action_size = brain.vector_action_space_size\n",
    "print('Size of each action:', action_size)\n",
    "\n",
    "# examine the state space \n",
    "states = env_info.vector_observations\n",
    "state_size = states.shape[1]\n",
    "print('There are {} agents. Each observes a state with length: {}'.format(states.shape[0], state_size))\n",
    "print('The state for the first agent looks like:', states[0])"
   ]
  },
  {
   "cell_type": "markdown",
   "metadata": {},
   "source": [
    "### 3. Take Random Actions in the Environment\n",
    "\n",
    "In the next code cell, you will learn how to use the Python API to control the agent and receive feedback from the environment.\n",
    "\n",
    "Note that **in this coding environment, you will not be able to watch the agents while they are training**, and you should set `train_mode=True` to restart the environment."
   ]
  },
  {
   "cell_type": "code",
   "execution_count": 6,
   "metadata": {},
   "outputs": [],
   "source": [
    "# env_info = env.reset(train_mode=True)[brain_name]      # reset the environment    \n",
    "# states = env_info.vector_observations                  # get the current state (for each agent)\n",
    "# scores = np.zeros(num_agents)                          # initialize the score (for each agent)\n",
    "# while True:\n",
    "#     actions = np.random.randn(num_agents, action_size) # select an action (for each agent)\n",
    "#     actions = np.clip(actions, -1, 1)                  # all actions between -1 and 1\n",
    "#     env_info = env.step(actions)[brain_name]           # send all actions to tne environment\n",
    "#     next_states = env_info.vector_observations         # get next state (for each agent)\n",
    "#     rewards = env_info.rewards                         # get reward (for each agent)\n",
    "#     dones = env_info.local_done                        # see if episode finished\n",
    "#     scores += env_info.rewards                         # update the score (for each agent)\n",
    "#     states = next_states                               # roll over states to next time step\n",
    "#     if np.any(dones):                                  # exit loop if episode finished\n",
    "#         break\n",
    "# print('Total score (averaged over agents) this episode: {}'.format(np.mean(scores)))"
   ]
  },
  {
   "cell_type": "markdown",
   "metadata": {},
   "source": [
    "When finished, you can close the environment."
   ]
  },
  {
   "cell_type": "code",
   "execution_count": 7,
   "metadata": {},
   "outputs": [],
   "source": [
    "# env.close()"
   ]
  },
  {
   "cell_type": "markdown",
   "metadata": {},
   "source": [
    "### 4. It's Your Turn!\n",
    "\n",
    "Now it's your turn to train your own agent to solve the environment!  A few **important notes**:\n",
    "- When training the environment, set `train_mode=True`, so that the line for resetting the environment looks like the following:\n",
    "```python\n",
    "env_info = env.reset(train_mode=True)[brain_name]\n",
    "```\n",
    "- To structure your work, you're welcome to work directly in this Jupyter notebook, or you might like to start over with a new file!  You can see the list of files in the workspace by clicking on **_Jupyter_** in the top left corner of the notebook.\n",
    "- In this coding environment, you will not be able to watch the agents while they are training.  However, **_after training the agents_**, you can download the saved model weights to watch the agents on your own machine! "
   ]
  },
  {
   "cell_type": "code",
   "execution_count": 8,
   "metadata": {},
   "outputs": [],
   "source": [
    "from DeepRL.deep_rl.network import *\n",
    "from DeepRL.deep_rl.component import *\n",
    "from DeepRL.deep_rl.agent.BaseAgent import *\n",
    "import torchvision\n"
   ]
  },
  {
   "cell_type": "code",
   "execution_count": 9,
   "metadata": {},
   "outputs": [],
   "source": [
    "num_agents = 1"
   ]
  },
  {
   "cell_type": "code",
   "execution_count": 10,
   "metadata": {},
   "outputs": [],
   "source": [
    "\n",
    "class DDPGAgent:\n",
    "    def __init__(self):\n",
    "        self.max_steps = int(1e6)\n",
    "        self.eval_interval = int(1e4)\n",
    "        self.eval_episodes = 20\n",
    "        \n",
    "        state_dim = 33\n",
    "        action_dim = 4\n",
    "\n",
    "        self.network_fn = lambda: DeterministicActorCriticNet(\n",
    "            state_dim, action_dim,\n",
    "            actor_body=FCBody(state_dim, (100, 50, 20), gate=F.relu),\n",
    "            critic_body=FCBody(state_dim + action_dim, (100, 50, 20), gate=F.relu),\n",
    "            actor_opt_fn=lambda params: torch.optim.Adam(params, lr=1e-3),\n",
    "            critic_opt_fn=lambda params: torch.optim.Adam(params, lr=1e-3))\n",
    "\n",
    "        self.replay_fn = lambda: UniformReplay(memory_size=int(1e6), batch_size=100)\n",
    "        self.discount = 0.99\n",
    "        self.random_process_fn = lambda: OrnsteinUhlenbeckProcess(\n",
    "            size=(action_dim,), std=LinearSchedule(0.2))\n",
    "        \n",
    "        self.warm_up = int(1e4)\n",
    "        \n",
    "        self.target_network_mix = 5e-3\n",
    "    \n",
    "        self.network = self.network_fn()\n",
    "        self.target_network = self.network_fn()\n",
    "        self.target_network.load_state_dict(self.network.state_dict())\n",
    "        \n",
    "        self.replay = self.replay_fn()\n",
    "        \n",
    "        self.random_process = self.random_process_fn()\n",
    "        self.random_process.reset_states()\n",
    "        \n",
    "        self.total_steps = 0\n",
    "        self.state = None\n",
    "        \n",
    "        self.state_normalizer = lambda x: x\n",
    "        \n",
    "        self.device = \"cpu\" # torch.device(\"cuda:0\" if torch.cuda.is_available() else \"cpu\")\n",
    "        \n",
    "        self.t_step = 0\n",
    "        \n",
    "        self.UPDATE_EVERY = 4\n",
    "        \n",
    "        self.models = {'network_actor': self.network.actor_body,\n",
    "                       'network_critic': self.network.critic_body,\n",
    "                       'target_actor': self.target_network.actor_body,\n",
    "                       'target_critic': self.target_network.critic_body}\n",
    "\n",
    "    def soft_update(self, target, src):\n",
    "        for target_param, param in zip(target.parameters(), src.parameters()):\n",
    "            target_param.detach_()\n",
    "            target_param.copy_(target_param * (1.0 - self.target_network_mix) +\n",
    "                               param * self.target_network_mix)\n",
    "            \n",
    "    def save(self, model_nm):\n",
    "        path = os.sep.join(['.', 'model_weights', model_nm])\n",
    "        if not os.path.exists(path):\n",
    "            os.makedirs(path)\n",
    "            \n",
    "        for nm, model in self.models.items():\n",
    "            weights = model.state_dict()\n",
    "            torch.save(weights, os.sep.join([path, nm]))\n",
    "\n",
    "    def load(self, model_nm):\n",
    "        path = os.sep.join(['.', 'model_weights', model_nm])\n",
    "            \n",
    "        for nm, model in self.models.items():\n",
    "            state_dict = torch.load(os.sep.join([path, nm]))\n",
    "            model.load_state_dict(state_dict)\n",
    "            \n",
    "    def act(self, state):\n",
    "        state = torch.from_numpy(state).float().to(self.device)\n",
    "        \n",
    "        if self.total_steps < self.warm_up:\n",
    "            action = np.random.rand(4*num_agents).reshape(-1, 4)\n",
    "        else:\n",
    "            action = self.network(state)\n",
    "            action = to_np(action)\n",
    "            action += self.random_process.sample()\n",
    "            \n",
    "        #Not needed, we will use tanh activation\n",
    "        #action = np.clip(action, -1, 1)\n",
    "        \n",
    "        self.total_steps += 1\n",
    "        \n",
    "        return action\n",
    "        \n",
    "    def eval_step(self, state):\n",
    "        state = self.state_normalizer(state)\n",
    "        action = self.network(state)\n",
    "        return to_np(action)\n",
    "\n",
    "    def step(self, state, action, reward, next_state, done):\n",
    "\n",
    "        self.replay.feed(dict(\n",
    "            state=state,\n",
    "            action=action,\n",
    "            reward=reward,\n",
    "            next_state=next_state,\n",
    "            mask=1-np.asarray(done, dtype=np.int32),\n",
    "        ))\n",
    "\n",
    "#         if done:\n",
    "#             self.random_process.reset_states()\n",
    "\n",
    "        # Learn every UPDATE_EVERY time steps.\n",
    "        self.t_step = (self.t_step + 1) % self.UPDATE_EVERY\n",
    "        \n",
    "        if (self.t_step == 0) and (self.replay.size() >= self.warm_up):\n",
    "            self.learn()\n",
    "        \n",
    "    def learn(self):\n",
    "        transitions = self.replay.sample()\n",
    "        states = tensor(transitions.state)\n",
    "        actions = tensor(transitions.action)\n",
    "        rewards = tensor(transitions.reward).unsqueeze(-1)\n",
    "        next_states = tensor(transitions.next_state)\n",
    "        mask = tensor(transitions.mask).unsqueeze(-1)\n",
    "\n",
    "        phi_next = self.target_network.feature(next_states)\n",
    "        a_next = self.target_network.actor(phi_next)\n",
    "        q_next = self.target_network.critic(phi_next, a_next)\n",
    "        q_next = self.discount * mask * q_next\n",
    "        q_next.add_(rewards)\n",
    "        q_next = q_next.detach()\n",
    "        phi = self.network.feature(states)\n",
    "        q = self.network.critic(phi, actions)\n",
    "        critic_loss = (q - q_next).pow(2).mul(0.5).sum(-1).mean()\n",
    "\n",
    "        self.network.zero_grad()\n",
    "        critic_loss.backward()\n",
    "        self.network.critic_opt.step()\n",
    "\n",
    "        phi = self.network.feature(states)\n",
    "        action = self.network.actor(phi)\n",
    "        policy_loss = -self.network.critic(phi.detach(), action).mean()\n",
    "\n",
    "        self.network.zero_grad()\n",
    "        policy_loss.backward()\n",
    "        self.network.actor_opt.step()\n",
    "\n",
    "        self.soft_update(self.target_network, self.network)"
   ]
  },
  {
   "cell_type": "code",
   "execution_count": 11,
   "metadata": {},
   "outputs": [],
   "source": [
    "from collections import deque\n",
    "def ddpg(n_episodes=10000, max_t=10000):\n",
    "    \"\"\"Deep Q-Learning.\n",
    "\n",
    "    Params\n",
    "    ======\n",
    "      n_episodes (int): maximum number of training episodes\n",
    "      max_t (int): maximum number of timesteps per episode\n",
    "    \"\"\"\n",
    "    scores_l = []  # list containing scores from each episode\n",
    "    scores_window = deque(maxlen=100)  # last 100 scores\n",
    "\n",
    "    agent = DDPGAgent()\n",
    "    for i_episode in range(1, n_episodes + 1):\n",
    "        env_info = env.reset(train_mode=True)[brain_name]      # reset the environment   \n",
    "        states = env_info.vector_observations                  # get the current state (for each agent)\n",
    "        scores = np.zeros(num_agents) \n",
    "\n",
    "        agent.random_process.reset_states() # should this really be restarted every episode?\n",
    "        \n",
    "        while True:\n",
    "            #actions = np.random.randn(num_agents, action_size) # select an action (for each agent)\n",
    "            actions = agent.act(states)                # all actions between -1 and 1\n",
    "            env_info = env.step(actions)[brain_name]           # send all actions to tne environment\n",
    "            next_states = env_info.vector_observations         # get next state (for each agent)\n",
    "            rewards = env_info.rewards                         # get reward (for each agent)\n",
    "            dones = env_info.local_done                        # see if episode finished\n",
    "            scores += env_info.rewards                         # update the score (for each agent)\n",
    "            agent.step(states, actions, rewards, next_states, dones)\n",
    "            states = next_states                               # roll over states to next time step\n",
    "            if np.any(dones):                                  # exit loop if episode finished\n",
    "                break\n",
    "\n",
    "        scores_window.append(scores[0])  # save most recent score\n",
    "        scores_l.append(scores[0])  # save most recent score\n",
    "        \n",
    "        print('\\rEpisode {}\\tAverage Score: {:.2f}'.format(i_episode,\n",
    "                                                       np.mean(scores_window)),\n",
    "                                                      end=\"\")\n",
    "        if i_episode % 100 == 0:\n",
    "            print('\\rEpisode {}\\tAverage Score: {:.2f}'.format(i_episode, np.mean(scores_window)))\n",
    "        if np.mean(scores_window) >= 30:\n",
    "            print(\n",
    "            '\\nEnvironment solved in {:d} episodes!\\tAverage Score: {:.2f}'.format(\n",
    "              i_episode - 100, np.mean(scores_window)))\n",
    "            agent.save('successfull_model')\n",
    "            break\n",
    "    return scores_l\n"
   ]
  },
  {
   "cell_type": "code",
   "execution_count": 12,
   "metadata": {
    "scrolled": false
   },
   "outputs": [
    {
     "name": "stdout",
     "output_type": "stream",
     "text": [
      "Episode 100\tAverage Score: 1.98\n",
      "Episode 200\tAverage Score: 6.00\n",
      "Episode 300\tAverage Score: 13.06\n",
      "Episode 400\tAverage Score: 15.38\n",
      "Episode 500\tAverage Score: 14.73\n",
      "Episode 600\tAverage Score: 16.83\n",
      "Episode 700\tAverage Score: 21.01\n",
      "Episode 800\tAverage Score: 28.25\n",
      "Episode 900\tAverage Score: 28.73\n",
      "Episode 967\tAverage Score: 30.01\n",
      "Environment solved in 867 episodes!\tAverage Score: 30.01\n"
     ]
    },
    {
     "data": {
      "image/png": "[encoded data removed]",
      "text/plain": [
       "<Figure size 432x288 with 1 Axes>"
      ]
     },
     "metadata": {
      "needs_background": "light"
     },
     "output_type": "display_data"
    }
   ],
   "source": [
    "scores = ddpg()\n",
    "\n",
    "# plot the scores\n",
    "import matplotlib.pyplot as plt\n",
    "fig = plt.figure()\n",
    "ax = fig.add_subplot(111)\n",
    "plt.plot(np.arange(len(scores)), scores)\n",
    "plt.ylabel('Score')\n",
    "plt.xlabel('Episode #')\n",
    "plt.show()"
   ]
  },
  {
   "cell_type": "code",
   "execution_count": 13,
   "metadata": {},
   "outputs": [],
   "source": [
    "env.close()"
   ]
  },
  {
   "cell_type": "code",
   "execution_count": 2,
   "metadata": {},
   "outputs": [],
   "source": [
    "def f(x):\n",
    "    return 2*x"
   ]
  },
  {
   "cell_type": "code",
   "execution_count": 5,
   "metadata": {},
   "outputs": [],
   "source": [
    "g = lambda: f(x=lambda params: 2)"
   ]
  },
  {
   "cell_type": "code",
   "execution_count": 9,
   "metadata": {},
   "outputs": [
    {
     "ename": "TypeError",
     "evalue": "unsupported operand type(s) for *: 'int' and 'function'",
     "output_type": "error",
     "traceback": [
      "\u001b[0;31m---------------------------------------------------------------------------\u001b[0m",
      "\u001b[0;31mTypeError\u001b[0m                                 Traceback (most recent call last)",
      "\u001b[0;32m<ipython-input-9-5fd69ddb5074>\u001b[0m in \u001b[0;36m<module>\u001b[0;34m\u001b[0m\n\u001b[0;32m----> 1\u001b[0;31m \u001b[0mg\u001b[0m\u001b[0;34m(\u001b[0m\u001b[0;34m)\u001b[0m\u001b[0;34m\u001b[0m\u001b[0;34m\u001b[0m\u001b[0m\n\u001b[0m",
      "\u001b[0;32m<ipython-input-5-9ef63601ecd4>\u001b[0m in \u001b[0;36m<lambda>\u001b[0;34m()\u001b[0m\n\u001b[0;32m----> 1\u001b[0;31m \u001b[0mg\u001b[0m \u001b[0;34m=\u001b[0m \u001b[0;32mlambda\u001b[0m\u001b[0;34m:\u001b[0m \u001b[0mf\u001b[0m\u001b[0;34m(\u001b[0m\u001b[0mx\u001b[0m\u001b[0;34m=\u001b[0m\u001b[0;32mlambda\u001b[0m \u001b[0mparams\u001b[0m\u001b[0;34m:\u001b[0m \u001b[0;36m2\u001b[0m\u001b[0;34m)\u001b[0m\u001b[0;34m\u001b[0m\u001b[0;34m\u001b[0m\u001b[0m\n\u001b[0m",
      "\u001b[0;32m<ipython-input-2-d8d93aba562c>\u001b[0m in \u001b[0;36mf\u001b[0;34m(x)\u001b[0m\n\u001b[1;32m      1\u001b[0m \u001b[0;32mdef\u001b[0m \u001b[0mf\u001b[0m\u001b[0;34m(\u001b[0m\u001b[0mx\u001b[0m\u001b[0;34m)\u001b[0m\u001b[0;34m:\u001b[0m\u001b[0;34m\u001b[0m\u001b[0;34m\u001b[0m\u001b[0m\n\u001b[0;32m----> 2\u001b[0;31m     \u001b[0;32mreturn\u001b[0m \u001b[0;36m2\u001b[0m\u001b[0;34m*\u001b[0m\u001b[0mx\u001b[0m\u001b[0;34m\u001b[0m\u001b[0;34m\u001b[0m\u001b[0m\n\u001b[0m",
      "\u001b[0;31mTypeError\u001b[0m: unsupported operand type(s) for *: 'int' and 'function'"
     ]
    }
   ],
   "source": [
    "g()"
   ]
  },
  {
   "cell_type": "code",
   "execution_count": null,
   "metadata": {},
   "outputs": [],
   "source": [
    "self.network_fn = lambda: DeterministicActorCriticNet(\n",
    "    state_dim, action_dim,\n",
    "    actor_body=FCBody(state_dim, (100, 50, 20), gate=F.relu),\n",
    "    critic_body=FCBody(state_dim + action_dim, (100, 50, 20), gate=F.relu),\n",
    "    actor_opt_fn=lambda params: torch.optim.Adam(params, lr=1e-3),\n",
    "    critic_opt_fn=lambda params: torch.optim.Adam(params, lr=1e-3))"
   ]
  },
  {
   "cell_type": "code",
   "execution_count": 11,
   "metadata": {},
   "outputs": [],
   "source": [
    "c = lambda params: 2"
   ]
  },
  {
   "cell_type": "code",
   "execution_count": 13,
   "metadata": {},
   "outputs": [
    {
     "data": {
      "text/plain": [
       "2"
      ]
     },
     "execution_count": 13,
     "metadata": {},
     "output_type": "execute_result"
    }
   ],
   "source": [
    "c(10)"
   ]
  },
  {
   "cell_type": "code",
   "execution_count": null,
   "metadata": {},
   "outputs": [],
   "source": []
  }
 ],
 "metadata": {
  "kernelspec": {
   "display_name": "Python 3",
   "language": "python",
   "name": "python3"
  },
  "language_info": {
   "codemirror_mode": {
    "name": "ipython",
    "version": 3
   },
   "file_extension": ".py",
   "mimetype": "text/x-python",
   "name": "python",
   "nbconvert_exporter": "python",
   "pygments_lexer": "ipython3",
   "version": "3.6.13"
  }
 },
 "nbformat": 4,
 "nbformat_minor": 2
}
